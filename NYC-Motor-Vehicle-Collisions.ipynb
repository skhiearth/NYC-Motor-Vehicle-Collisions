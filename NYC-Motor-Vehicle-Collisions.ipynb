{
 "cells": [
  {
   "cell_type": "markdown",
   "metadata": {},
   "source": [
    "# New York City Motor Vehicle Collisions\n",
    "GitHub Repository: https://github.com/skhiearth/NYC-Motor-Vehicle-Collisions\n",
    "\n",
    "Kaggle Kernel: https://www.kaggle.com/skhiearth/nyc-motor-vehicle-collisions (Uses a smaller dataset)\n",
    "\n",
    "**Analysing and visualising Motor Vehicle Collisions in New York City with an objective to make the city roads safer using Data Science techniques. The [dataset](https://data.cityofnewyork.us/Public-Safety/Motor-Vehicle-Collisions-Crashes/h9gi-nx95) used is provided by NYC Open Data and contains details on the crash event. The Motor Vehicle Collisions data tables contain information from all police reported motor vehicle collisions in NYC.**"
   ]
  },
  {
   "cell_type": "code",
   "execution_count": 1,
   "metadata": {},
   "outputs": [],
   "source": [
    "# Import the required packages\n",
    "import os\n",
    "import requests\n",
    "import pandas as pd\n",
    "import numpy as np\n",
    "import matplotlib.pyplot as plt\n",
    "from matplotlib import cm\n",
    "import geopandas as gpd"
   ]
  },
  {
   "cell_type": "markdown",
   "metadata": {},
   "source": [
    "### Importing data"
   ]
  },
  {
   "cell_type": "markdown",
   "metadata": {},
   "source": [
    "Download the static file from [here](https://data.cityofnewyork.us/api/views/h9gi-nx95/rows.csv?accessType=DOWNLOAD). Dynamic data can be fetched using the Socrata Open Data API (SODA). \n",
    "Note that SODA limits a single API call to 1000 rows, so please use the offset parameter to make multiple API calls\n",
    "to fetch all rows.\n",
    "The exact static file version used here has been uploaded to Google Drive, and made public. You may access this version from [here](https://drive.google.com/open?id=1Wv9yya3u3HjnP2XZbxouFUnyLD4plU4Y)."
   ]
  },
  {
   "cell_type": "code",
   "execution_count": 2,
   "metadata": {},
   "outputs": [
    {
     "name": "stdout",
     "output_type": "stream",
     "text": [
      "(904482, 29)\n"
     ]
    },
    {
     "data": {
      "text/html": [
       "<div>\n",
       "<style scoped>\n",
       "    .dataframe tbody tr th:only-of-type {\n",
       "        vertical-align: middle;\n",
       "    }\n",
       "\n",
       "    .dataframe tbody tr th {\n",
       "        vertical-align: top;\n",
       "    }\n",
       "\n",
       "    .dataframe thead th {\n",
       "        text-align: right;\n",
       "    }\n",
       "</style>\n",
       "<table border=\"1\" class=\"dataframe\">\n",
       "  <thead>\n",
       "    <tr style=\"text-align: right;\">\n",
       "      <th></th>\n",
       "      <th>CRASH DATE</th>\n",
       "      <th>CRASH TIME</th>\n",
       "      <th>BOROUGH</th>\n",
       "      <th>ZIP CODE</th>\n",
       "      <th>LATITUDE</th>\n",
       "      <th>LONGITUDE</th>\n",
       "      <th>LOCATION</th>\n",
       "      <th>ON STREET NAME</th>\n",
       "      <th>CROSS STREET NAME</th>\n",
       "      <th>OFF STREET NAME</th>\n",
       "      <th>...</th>\n",
       "      <th>CONTRIBUTING FACTOR VEHICLE 2</th>\n",
       "      <th>CONTRIBUTING FACTOR VEHICLE 3</th>\n",
       "      <th>CONTRIBUTING FACTOR VEHICLE 4</th>\n",
       "      <th>CONTRIBUTING FACTOR VEHICLE 5</th>\n",
       "      <th>COLLISION_ID</th>\n",
       "      <th>VEHICLE TYPE CODE 1</th>\n",
       "      <th>VEHICLE TYPE CODE 2</th>\n",
       "      <th>VEHICLE TYPE CODE 3</th>\n",
       "      <th>VEHICLE TYPE CODE 4</th>\n",
       "      <th>VEHICLE TYPE CODE 5</th>\n",
       "    </tr>\n",
       "  </thead>\n",
       "  <tbody>\n",
       "    <tr>\n",
       "      <td>0</td>\n",
       "      <td>04/02/2016</td>\n",
       "      <td>22:23</td>\n",
       "      <td>BRONX</td>\n",
       "      <td>10456.0</td>\n",
       "      <td>NaN</td>\n",
       "      <td>NaN</td>\n",
       "      <td>NaN</td>\n",
       "      <td>WESTCHESTER AVENUE</td>\n",
       "      <td>UNION AVENUE</td>\n",
       "      <td>NaN</td>\n",
       "      <td>...</td>\n",
       "      <td>NaN</td>\n",
       "      <td>NaN</td>\n",
       "      <td>NaN</td>\n",
       "      <td>NaN</td>\n",
       "      <td>3411047.0</td>\n",
       "      <td>PASSENGER VEHICLE</td>\n",
       "      <td>NaN</td>\n",
       "      <td>NaN</td>\n",
       "      <td>NaN</td>\n",
       "      <td>NaN</td>\n",
       "    </tr>\n",
       "    <tr>\n",
       "      <td>1</td>\n",
       "      <td>01/06/2020</td>\n",
       "      <td>12:50</td>\n",
       "      <td>NaN</td>\n",
       "      <td>NaN</td>\n",
       "      <td>NaN</td>\n",
       "      <td>NaN</td>\n",
       "      <td>NaN</td>\n",
       "      <td>PRINCE STREET</td>\n",
       "      <td>NaN</td>\n",
       "      <td>NaN</td>\n",
       "      <td>...</td>\n",
       "      <td>Failure to Yield Right-of-Way</td>\n",
       "      <td>NaN</td>\n",
       "      <td>NaN</td>\n",
       "      <td>NaN</td>\n",
       "      <td>4269674.0</td>\n",
       "      <td>Sedan</td>\n",
       "      <td>Tractor Truck Diesel</td>\n",
       "      <td>NaN</td>\n",
       "      <td>NaN</td>\n",
       "      <td>NaN</td>\n",
       "    </tr>\n",
       "    <tr>\n",
       "      <td>2</td>\n",
       "      <td>01/06/2020</td>\n",
       "      <td>13:16</td>\n",
       "      <td>MANHATTAN</td>\n",
       "      <td>10018.0</td>\n",
       "      <td>NaN</td>\n",
       "      <td>NaN</td>\n",
       "      <td>NaN</td>\n",
       "      <td>40 STREET</td>\n",
       "      <td>12 AVENUE</td>\n",
       "      <td>NaN</td>\n",
       "      <td>...</td>\n",
       "      <td>Unspecified</td>\n",
       "      <td>NaN</td>\n",
       "      <td>NaN</td>\n",
       "      <td>NaN</td>\n",
       "      <td>4269909.0</td>\n",
       "      <td>Sedan</td>\n",
       "      <td>Bus</td>\n",
       "      <td>NaN</td>\n",
       "      <td>NaN</td>\n",
       "      <td>NaN</td>\n",
       "    </tr>\n",
       "  </tbody>\n",
       "</table>\n",
       "<p>3 rows × 29 columns</p>\n",
       "</div>"
      ],
      "text/plain": [
       "   CRASH DATE CRASH TIME    BOROUGH  ZIP CODE  LATITUDE  LONGITUDE LOCATION  \\\n",
       "0  04/02/2016      22:23      BRONX   10456.0       NaN        NaN      NaN   \n",
       "1  01/06/2020      12:50        NaN       NaN       NaN        NaN      NaN   \n",
       "2  01/06/2020      13:16  MANHATTAN   10018.0       NaN        NaN      NaN   \n",
       "\n",
       "                     ON STREET NAME CROSS STREET NAME OFF STREET NAME  ...  \\\n",
       "0  WESTCHESTER AVENUE                    UNION AVENUE             NaN  ...   \n",
       "1  PRINCE STREET                                  NaN             NaN  ...   \n",
       "2  40 STREET                                12 AVENUE             NaN  ...   \n",
       "\n",
       "   CONTRIBUTING FACTOR VEHICLE 2  CONTRIBUTING FACTOR VEHICLE 3  \\\n",
       "0                            NaN                            NaN   \n",
       "1  Failure to Yield Right-of-Way                            NaN   \n",
       "2                    Unspecified                            NaN   \n",
       "\n",
       "   CONTRIBUTING FACTOR VEHICLE 4  CONTRIBUTING FACTOR VEHICLE 5  COLLISION_ID  \\\n",
       "0                            NaN                            NaN     3411047.0   \n",
       "1                            NaN                            NaN     4269674.0   \n",
       "2                            NaN                            NaN     4269909.0   \n",
       "\n",
       "   VEHICLE TYPE CODE 1   VEHICLE TYPE CODE 2  VEHICLE TYPE CODE 3  \\\n",
       "0    PASSENGER VEHICLE                   NaN                  NaN   \n",
       "1                Sedan  Tractor Truck Diesel                  NaN   \n",
       "2                Sedan                   Bus                  NaN   \n",
       "\n",
       "  VEHICLE TYPE CODE 4 VEHICLE TYPE CODE 5  \n",
       "0                 NaN                 NaN  \n",
       "1                 NaN                 NaN  \n",
       "2                 NaN                 NaN  \n",
       "\n",
       "[3 rows x 29 columns]"
      ]
     },
     "execution_count": 2,
     "metadata": {},
     "output_type": "execute_result"
    }
   ],
   "source": [
    "# Importing static dataset from .csv file\n",
    "raw_data = pd.read_csv('datasets/Motor_Vehicle_Collisions_-_Crashes.csv')\n",
    "\n",
    "print(raw_data.shape)\n",
    "raw_data.head(3)"
   ]
  },
  {
   "cell_type": "markdown",
   "metadata": {},
   "source": [
    "### Data Pre-processing and Cleaning"
   ]
  },
  {
   "cell_type": "code",
   "execution_count": 3,
   "metadata": {},
   "outputs": [],
   "source": [
    "# Removing columns that have more than a third values as NaN\n",
    "mask = raw_data.isna().sum() / len(raw_data) < 0.34\n",
    "raw_data = raw_data.loc[:, mask]\n",
    "\n",
    "# Removing columns that don't have a large contributing factor to EDA and Predictions\n",
    "cols_to_drop = ['ZIP CODE', 'LOCATION', \n",
    "                'CONTRIBUTING FACTOR VEHICLE 2', 'VEHICLE TYPE CODE 2']\n",
    "raw_data.drop(cols_to_drop, axis = 1, inplace = True)"
   ]
  },
  {
   "cell_type": "code",
   "execution_count": 4,
   "metadata": {},
   "outputs": [],
   "source": [
    "# Concatenating date and time columns\n",
    "raw_data['CRASH_DATE_TIME'] = raw_data['CRASH DATE'] + ' ' + raw_data['CRASH TIME']\n",
    "\n",
    "# Drop redundant date and time columns\n",
    "cols_to_drop = ['CRASH DATE', 'CRASH TIME']\n",
    "raw_data.drop(cols_to_drop, axis = 1, inplace = True)"
   ]
  },
  {
   "cell_type": "code",
   "execution_count": null,
   "metadata": {},
   "outputs": [],
   "source": [
    "# Convert Crash Date and time to datetime format\n",
    "raw_data['CRASH_DATE_TIME']= pd.to_datetime(raw_data['CRASH_DATE_TIME'], \n",
    "                                            dayfirst=True, errors='coerce')\n",
    "\n",
    "# Dropping rows with problematics dates\n",
    "idx = raw_data[raw_data['CRASH_DATE_TIME'].isnull()].index\n",
    "raw_data.drop(idx, axis = 0, inplace = True)\n",
    "\n",
    "print(raw_data.shape)\n",
    "raw_data.head(3)"
   ]
  },
  {
   "cell_type": "markdown",
   "metadata": {},
   "source": [
    "### Borough-wise Analysis"
   ]
  },
  {
   "cell_type": "code",
   "execution_count": null,
   "metadata": {},
   "outputs": [],
   "source": [
    "borough_wise = raw_data.groupby(['BOROUGH']).size().reset_index(name='NoOfAccidents')\n",
    "borough_wise.head()"
   ]
  },
  {
   "cell_type": "markdown",
   "metadata": {},
   "source": [
    "The [GIS data](https://data.cityofnewyork.us/City-Government/Borough-Boundaries/tqmj-j8zm) with the Boundaries of Boroughs for New York City is obtained from NYC Open Data. The data is provided by the Department of City Planning (DCP)."
   ]
  },
  {
   "cell_type": "code",
   "execution_count": null,
   "metadata": {},
   "outputs": [],
   "source": [
    "# Import the ShapeFile for Borough Boundaries\n",
    "fp = 'datasets/Borough Boundaries/geo_export_87071461-9196-46f3-8d1b-52fed88fb835.shp'\n",
    "borough_geo = gpd.read_file(fp)\n",
    "borough_geo['boro_name'] = borough_geo['boro_name'].str.upper() \n",
    "\n",
    "# Merging ShapeFile with data\n",
    "borough_wise = borough_geo.set_index('boro_name').join(borough_wise.set_index('BOROUGH'))"
   ]
  },
  {
   "cell_type": "code",
   "execution_count": null,
   "metadata": {},
   "outputs": [],
   "source": [
    "# Create figure and axes for Matplotlib\n",
    "fig, ax = plt.subplots(1, figsize=(10, 7))\n",
    "\n",
    "# Drawing the Map\n",
    "borough_wise.plot(column = 'NoOfAccidents', cmap = 'Reds', linewidth = 0.8, \n",
    "                      ax = ax, edgecolor = '0.8')\n",
    "\n",
    "# Map customizations\n",
    "ax.axis('off')\n",
    "ax.set_title('Motor Vehicle Collisions in NYC', size = 16)\n",
    "ax.annotate('Source: NYC Open Data', xy = (0.1, .08),  \n",
    "            xycoords = 'figure fraction', horizontalalignment = 'left', verticalalignment = 'top', \n",
    "            fontsize = 12, color = '#555555')\n",
    "\n",
    "# Adding a color bar legend to the map\n",
    "sm = plt.cm.ScalarMappable(cmap = 'Reds', \n",
    "                           norm = plt.Normalize(vmin = 22822, vmax = 189648))\n",
    "cbar = fig.colorbar(sm)\n",
    "\n",
    "# Export map\n",
    "fig.savefig('plots/borough_wise_accidents.png', dpi=300)"
   ]
  },
  {
   "cell_type": "markdown",
   "metadata": {},
   "source": [
    "**Analysis: Brooklyn and Queens have reported a very high number of accidents. On the other hand, Staten Island reported the least number of accidents in New York City boroughs.**"
   ]
  },
  {
   "cell_type": "code",
   "execution_count": null,
   "metadata": {},
   "outputs": [],
   "source": [
    "injuries_and_fatalities = raw_data.groupby(['BOROUGH'])\\\n",
    "['NUMBER OF PERSONS KILLED', 'NUMBER OF PERSONS INJURED'].agg('sum').reset_index()\n",
    "\n",
    "injuries_and_fatalities['Total Accidents'] = raw_data.groupby(['BOROUGH']).size().\\\n",
    "reset_index(name='NoOfAccidents').NoOfAccidents\n",
    "\n",
    "# Injuries and Fatalities as Percentages\n",
    "injuries_and_fatalities['Injury%'] = round((injuries_and_fatalities['NUMBER OF PERSONS INJURED']\\\n",
    "/ injuries_and_fatalities['Total Accidents'] * 100), 1)\n",
    "injuries_and_fatalities['Fatality%'] = round((injuries_and_fatalities['NUMBER OF PERSONS KILLED']\\\n",
    "/ injuries_and_fatalities['Total Accidents'] * 100), 3)\n",
    "\n",
    "injuries_and_fatalities.head()"
   ]
  },
  {
   "cell_type": "code",
   "execution_count": null,
   "metadata": {},
   "outputs": [],
   "source": [
    "# Dropping redudant column and merging with ShapeFile\n",
    "injuries_and_fatalities.drop('Total Accidents', axis = 1, inplace = True)\n",
    "injuries_and_fatalities = borough_geo.set_index('boro_name').join(injuries_and_fatalities.set_index('BOROUGH'))"
   ]
  },
  {
   "cell_type": "code",
   "execution_count": null,
   "metadata": {},
   "outputs": [],
   "source": [
    "# Create figure and axes for Matplotlib\n",
    "fig, ((ax1, ax2), (ax3, ax4)) = plt.subplots(nrows=2, ncols=2, sharex=True, sharey=True, figsize=(10, 7))\n",
    "\n",
    "# Drawing the maps\n",
    "injuries_and_fatalities.plot(column = 'NUMBER OF PERSONS INJURED', cmap = 'PuRd', linewidth = 0.8, \n",
    "                      ax = ax1, edgecolor = '0.8')\n",
    "injuries_and_fatalities.plot(column = 'NUMBER OF PERSONS KILLED', cmap = 'Reds', linewidth = 0.8, \n",
    "                      ax = ax2, edgecolor = '0.8')\n",
    "injuries_and_fatalities.plot(column = 'Injury%', cmap = 'PuRd', linewidth = 0.8, \n",
    "                      ax = ax3, edgecolor = '0.8')\n",
    "injuries_and_fatalities.plot(column = 'Fatality%', cmap = 'Reds', linewidth = 0.8, \n",
    "                      ax = ax4, edgecolor = '0.8')\n",
    "\n",
    "# Map customizations\n",
    "ax1.axis('off'); ax2.axis('off'); ax3.axis('off'); ax4.axis('off')\n",
    "ax1.set_title('Total number of people injured in NYC', size = 10)\n",
    "ax2.set_title('Total number of people killed in NYC', size = 10)\n",
    "ax3.set_title('Percentage of people injured in vehicle collisions', size = 9)\n",
    "ax4.set_title('Percentage of people killed in vehicle collisions', size = 9)\n",
    "\n",
    "# Adding color bar legends to the maps\n",
    "sm = plt.cm.ScalarMappable(cmap = 'PuRd', norm = plt.Normalize(vmin = 5800, vmax = 53000))\n",
    "cbar = fig.colorbar(sm, ax = ax1)\n",
    "\n",
    "sm = plt.cm.ScalarMappable(cmap = 'Reds', norm = plt.Normalize(vmin = 30, vmax = 210))\n",
    "cbar = fig.colorbar(sm, ax = ax2)\n",
    "\n",
    "sm = plt.cm.ScalarMappable(cmap = 'PuRd', norm = plt.Normalize(vmin = 15, vmax = 30))\n",
    "cbar = fig.colorbar(sm, ax = ax3)\n",
    "\n",
    "sm = plt.cm.ScalarMappable(cmap = 'Reds', norm = plt.Normalize(vmin = 0.05, vmax = 0.015))\n",
    "cbar = fig.colorbar(sm, ax = ax4)\n",
    "\n",
    "# Export map\n",
    "fig.savefig('plots/borough_wise_injury_percentage.png', dpi=500)"
   ]
  },
  {
   "cell_type": "markdown",
   "metadata": {},
   "source": [
    "**Analysis: Brooklyn and Bronx have reported a very high percentage of accidents that result in injury. Queens and Staten Island also have a very high percentage, third and fourth to the first two borough by only a couple of percentages. On the other hand, Manhattan reported the least number of accidents in New York City boroughs.**"
   ]
  },
  {
   "cell_type": "markdown",
   "metadata": {},
   "source": [
    "### Contributing Factor Analysis\n",
    "\n",
    "In the dataset, the column `CONTRIBUTING FACTOR VEHICLE 1` gives the factor contributing to the collision for designated vehicle. "
   ]
  },
  {
   "cell_type": "code",
   "execution_count": null,
   "metadata": {},
   "outputs": [],
   "source": [
    "# Calculate the number of people killed, injured and total accidents for each contributing factor\n",
    "factor_wise = raw_data.groupby(['CONTRIBUTING FACTOR VEHICLE 1'])\\\n",
    "['NUMBER OF PERSONS KILLED', 'NUMBER OF PERSONS INJURED'].agg('sum').reset_index()\n",
    "\n",
    "factor_wise['Total Accidents'] = raw_data.groupby(['CONTRIBUTING FACTOR VEHICLE 1']).size().\\\n",
    "reset_index(name='NoOfAccidents').NoOfAccidents\n",
    "\n",
    "# 'Unspecified' factor is the most common factor in motor vehicle collissions reported by the NYPD, \n",
    "# but since these don't give us any concrete analysis, we won't consider this, and hence we drop it.\n",
    "factor_wise = factor_wise.sort_values('Total Accidents', ascending = False).head(10).iloc[1:]\n",
    "\n",
    "# Injuries and Fatalities as Percentages\n",
    "factor_wise['Injury%'] = round((factor_wise['NUMBER OF PERSONS INJURED']/factor_wise['Total Accidents'] * 100), 1)\n",
    "factor_wise['Fatality%'] = round((factor_wise['NUMBER OF PERSONS KILLED']/factor_wise['Total Accidents'] * 100), 3)\n",
    "\n",
    "# Drop last two\n",
    "factor_wise = factor_wise[:-1]\n",
    "factor_wise.head(3)"
   ]
  },
  {
   "cell_type": "markdown",
   "metadata": {},
   "source": [
    "#### Most common reasons for accidents:"
   ]
  },
  {
   "cell_type": "code",
   "execution_count": null,
   "metadata": {},
   "outputs": [],
   "source": [
    "factor_accidents = factor_wise.sort_values('Total Accidents', ascending = False).head(10)\n",
    "factor_accidents.head(3)"
   ]
  },
  {
   "cell_type": "code",
   "execution_count": null,
   "metadata": {
    "scrolled": false
   },
   "outputs": [],
   "source": [
    "# Create figure and axes for Matplotlib\n",
    "fig, ax = plt.subplots(1, figsize=(14, 6))\n",
    "\n",
    "# Defining color map\n",
    "color = np.flip(cm.Reds(np.linspace(.2,.6, 10)))\n",
    "\n",
    "# Creating the plot\n",
    "factor_accidents.plot(x = 'CONTRIBUTING FACTOR VEHICLE 1', \n",
    "                      y = 'Total Accidents', kind = 'bar', \n",
    "                      color = color, stacked = True, ax = ax)\n",
    "\n",
    "# Customizing the Visulation\n",
    "ax.set_title('Factors causing the most number of accidents', size = 12)\n",
    "ax.set_xlabel('Contributing Factor', size = 12)\n",
    "ax.set_ylabel('Number of Accidents', size = 12)\n",
    "ax.tick_params(labelrotation = 20)\n",
    "\n",
    "# Exporting the visualisation\n",
    "fig.savefig('plots/factor_accidents.png', dpi=500)"
   ]
  },
  {
   "cell_type": "markdown",
   "metadata": {},
   "source": [
    "**Analysis: Driver Distraction is by far the most common factor leading to accidents on the roads of New York City. This is a strong argument in favor of the promotion of self-driving cars to make our roads safer.**"
   ]
  },
  {
   "cell_type": "markdown",
   "metadata": {},
   "source": [
    "#### Contributing Factors with highest injury and fatality rate:"
   ]
  },
  {
   "cell_type": "code",
   "execution_count": null,
   "metadata": {},
   "outputs": [],
   "source": [
    "factor_inj_rate = factor_wise.sort_values('Injury%', ascending = False).head(10)\n",
    "factor_fat_rate = factor_wise.sort_values('Fatality%', ascending = False).head(10)"
   ]
  },
  {
   "cell_type": "code",
   "execution_count": null,
   "metadata": {},
   "outputs": [],
   "source": [
    "# Create figure and axes for Matplotlib\n",
    "fig, (ax1, ax2) = plt.subplots(nrows=1, ncols=2, figsize=(18, 6))\n",
    "\n",
    "# Defining color map\n",
    "color = np.flip(cm.plasma(np.linspace(.2,.6, 10)))\n",
    "color2 = cm.autumn(np.linspace(.2,.6, 10))\n",
    "\n",
    "# Creating the plots\n",
    "factor_inj_rate.plot(x = 'CONTRIBUTING FACTOR VEHICLE 1', \n",
    "                      y = 'Injury%', kind = 'bar', \n",
    "                      color = color, stacked = True, ax = ax1)\n",
    "\n",
    "factor_fat_rate.plot(x = 'CONTRIBUTING FACTOR VEHICLE 1', \n",
    "                      y = 'Fatality%', kind = 'bar', \n",
    "                      color = color2, stacked = True, ax = ax2)\n",
    "\n",
    "# Customizing the Visulation\n",
    "ax1.set_title('Factors with the highest rate of injury', size = 12)\n",
    "ax1.set_xlabel('Contributing Factor', size = 12)\n",
    "ax1.set_ylabel('Rate of Injury (%)', size = 12)\n",
    "ax1.tick_params(labelrotation = 30)\n",
    "\n",
    "ax2.set_title('Factors with the highest rate of fatality', size = 12)\n",
    "ax2.set_xlabel('Contributing Factor', size = 12)\n",
    "ax2.set_ylabel('Rate of Fatality (%)', size = 12)\n",
    "ax2.tick_params(labelrotation = 30)\n",
    "\n",
    "# Exporting the visualisation\n",
    "fig.savefig('plots/factor_inj_fat_rate.png', dpi=500)"
   ]
  },
  {
   "cell_type": "markdown",
   "metadata": {},
   "source": [
    "**Analysis: `Failure to Yield Right-of-Way` is by far the most common factor for fatality, with more than 16% of all accidents resulting in deaths. `Driver Inattention/Distraction` is a distant second with around 6%. In terms of injuries, the rate is much higher, which `Failure to Yield Right-of-Way` again being the factor with the highest rate of over 45%. `Following Too Closely`, `Driver Inattention/Distraction` and `Other Vehicular` also have very high rate of injuries (around 20-30%).**"
   ]
  },
  {
   "cell_type": "markdown",
   "metadata": {},
   "source": [
    "### Vehicle Type Analysis\n",
    "\n",
    "In the dataset, the column `VEHICLE TYPE CODE 1` gives the type of the vehicle which was involved in the motor collision."
   ]
  },
  {
   "cell_type": "code",
   "execution_count": null,
   "metadata": {},
   "outputs": [],
   "source": [
    "# Calculate the number of people killed, injured and total accidents for each vehicle type\n",
    "vehicle_wise = raw_data.groupby(['VEHICLE TYPE CODE 1'])\\\n",
    "['NUMBER OF PERSONS KILLED', 'NUMBER OF PERSONS INJURED'].agg('sum').reset_index()\n",
    "\n",
    "vehicle_wise['Total Accidents'] = raw_data.groupby(['VEHICLE TYPE CODE 1']).size().\\\n",
    "reset_index(name='NoOfAccidents').NoOfAccidents\n",
    "\n",
    "vehicle_wise = vehicle_wise.sort_values('Total Accidents', ascending = False)\n",
    "# Injuries and Fatalities as Percentages\n",
    "vehicle_wise['Injury%'] = round((vehicle_wise['NUMBER OF PERSONS INJURED']/vehicle_wise['Total Accidents'] * 100), 1)\n",
    "vehicle_wise['Fatality%'] = round((vehicle_wise['NUMBER OF PERSONS KILLED']/vehicle_wise['Total Accidents'] * 100), 3)\n",
    "\n",
    "# Filtering vehicles involved in atleast 100 accidents\n",
    "mask = vehicle_wise['Total Accidents'] > 100\n",
    "vehicle_wise = vehicle_wise[mask]\n",
    "\n",
    "vehicle_wise.head(3)"
   ]
  },
  {
   "cell_type": "code",
   "execution_count": null,
   "metadata": {},
   "outputs": [],
   "source": [
    "vehicle_accidents = vehicle_wise.sort_values('Total Accidents', ascending = False).head(10)\n",
    "vehicle_accidents.head(5)"
   ]
  },
  {
   "cell_type": "code",
   "execution_count": null,
   "metadata": {},
   "outputs": [],
   "source": [
    "# Create figure and axes for Matplotlib\n",
    "fig, ax = plt.subplots(1, figsize=(14, 6))\n",
    "\n",
    "# Defining color map\n",
    "color = np.flip(cm.Reds(np.linspace(.2,.6, 10)))\n",
    "\n",
    "# Creating the plot\n",
    "vehicle_accidents.plot(x = 'VEHICLE TYPE CODE 1', \n",
    "                      y = 'Total Accidents', kind = 'bar', \n",
    "                      color = color, stacked = True, ax = ax)\n",
    "\n",
    "# Customizing the Visulation\n",
    "ax.set_title('Vehicle types involved in the most number of accidents', size = 12)\n",
    "ax.set_xlabel('Vehicle Type', size = 12)\n",
    "ax.set_ylabel('Number of Accidents', size = 12)\n",
    "ax.tick_params(labelrotation = 10)\n",
    "\n",
    "# Exporting the visualisation\n",
    "fig.savefig('plots/vehicle_type_accidents.png', dpi=500)"
   ]
  },
  {
   "cell_type": "code",
   "execution_count": null,
   "metadata": {},
   "outputs": [],
   "source": [
    "vehicle_inj_rate = vehicle_wise.sort_values('Injury%', ascending = False).head(10)\n",
    "vehicle_fat_rate = vehicle_wise.sort_values('Fatality%', ascending = False).head(10)"
   ]
  },
  {
   "cell_type": "code",
   "execution_count": null,
   "metadata": {},
   "outputs": [],
   "source": [
    "# Create figure and axes for Matplotlib\n",
    "fig, (ax1, ax2) = plt.subplots(nrows=1, ncols=2, figsize=(18, 6))\n",
    "\n",
    "# Defining color map\n",
    "color = np.flip(cm.plasma(np.linspace(.2,.6, 10)))\n",
    "color2 = cm.autumn(np.linspace(.2,.6, 10))\n",
    "\n",
    "# Creating the plots\n",
    "vehicle_inj_rate.plot(x = 'VEHICLE TYPE CODE 1', \n",
    "                      y = 'Injury%', kind = 'bar', \n",
    "                      color = color, stacked = True, ax = ax1)\n",
    "\n",
    "vehicle_fat_rate.plot(x = 'VEHICLE TYPE CODE 1', \n",
    "                      y = 'Fatality%', kind = 'bar', \n",
    "                      color = color2, stacked = True, ax = ax2)\n",
    "\n",
    "# Customizing the Visulation\n",
    "ax1.set_title('Vehicle Types with the highest rate of injury', size = 12)\n",
    "ax1.set_xlabel('Vehicle Types', size = 12)\n",
    "ax1.set_ylabel('Rate of Injury (%)', size = 12)\n",
    "ax1.tick_params(labelrotation = 30)\n",
    "\n",
    "ax2.set_title('Vehicle Types with the highest rate of fatality', size = 12)\n",
    "ax2.set_xlabel('Vehicle Types', size = 12)\n",
    "ax2.set_ylabel('Rate of Fatality (%)', size = 12)\n",
    "ax2.tick_params(labelrotation = 30)\n",
    "\n",
    "# Exporting the visualisation\n",
    "fig.savefig('plots/vehicle_inj_fat_rate.png', dpi=500)"
   ]
  },
  {
   "cell_type": "markdown",
   "metadata": {},
   "source": [
    "**Analysis: Passenger Vehicles are the vehicle types involved in the most number of accident, followed by Sedands and SUVs/Station Wagons. `E-Bik`, `Bike`, `Bicycle`, `Motorbike`, `E-Sco`, `Motorscooter`, `Moped` and `Motercycle` types have an extreme rate of injury (>50%). Hence, it can be concluded that two wheelers are prone to injuries. `FB`, `Motorcycle`, `Tanker`, `Concerete Mixer`, `Dump`, `Tow Trucks`, `E-Bik`, `Motorbike` and `Armored Truck` have the highest rate of fatality. Hence, it can be concluded that vehicles of the extreme weights are more deadly.**"
   ]
  },
  {
   "cell_type": "markdown",
   "metadata": {},
   "source": [
    "### Do Date and Time play any role?"
   ]
  },
  {
   "cell_type": "code",
   "execution_count": null,
   "metadata": {},
   "outputs": [],
   "source": [
    "# Keeping only the date from the Datetime column\n",
    "date_only = raw_data.copy() \n",
    "date_only['Date'] = date_only['CRASH_DATE_TIME'].dt.date\n",
    "\n",
    "# Calculate the number of people killed, injured and total accidents for each contributing factor\n",
    "date_wise = date_only.groupby(['Date'])\\\n",
    "['NUMBER OF PERSONS KILLED', 'NUMBER OF PERSONS INJURED'].agg('sum').reset_index()\n",
    "\n",
    "date_wise['Total Accidents'] = date_only.groupby(['Date']).size().\\\n",
    "reset_index(name='NoOfAccidents').NoOfAccidents\n",
    "\n",
    "# Injuries and Fatalities as Percentages\n",
    "date_wise['Injury%'] = round((date_wise['NUMBER OF PERSONS INJURED']/date_wise['Total Accidents'] * 100), 1)\n",
    "date_wise['Fatality%'] = round((date_wise['NUMBER OF PERSONS KILLED']/date_wise['Total Accidents'] * 100), 3)\n",
    "\n",
    "date_wise = date_wise.sort_values('Total Accidents', ascending = False)"
   ]
  },
  {
   "cell_type": "code",
   "execution_count": null,
   "metadata": {
    "tags": [
     "hide_input"
    ]
   },
   "outputs": [],
   "source": [
    "date_accidents = date_wise.sort_values('Total Accidents', ascending = False).head(10)\n",
    "\n",
    "# Create figure and axes for Matplotlib\n",
    "fig, ax = plt.subplots(1, figsize=(12, 4))\n",
    "\n",
    "# Defining color map\n",
    "color = np.flip(cm.Oranges(np.linspace(.2,.6, 10)))\n",
    "\n",
    "# Creating the plot\n",
    "date_accidents.plot(x = 'Date', \n",
    "                      y = 'Total Accidents', kind = 'bar', \n",
    "                      color = color, stacked = True, ax = ax)\n",
    "\n",
    "# Customizing the Visulation\n",
    "ax.set_title('Dates on which the most number of accidents occured', size = 12)\n",
    "ax.set_xlabel('Date', size = 12)\n",
    "ax.set_ylabel('Number of Accidents', size = 12)\n",
    "ax.tick_params(labelrotation = 10)\n",
    "\n",
    "# Exporting the visualisation\n",
    "fig.savefig('plots/date_accidents.png', dpi=500)"
   ]
  },
  {
   "cell_type": "markdown",
   "metadata": {},
   "source": [
    "It can be seen that are several dates on which an unusually high number of accidents occured. Since weather conditions can play a major role in motor accidents, we match the weather conditions on the days when more than 600 accidents were reported, and try to find a correlation."
   ]
  },
  {
   "cell_type": "code",
   "execution_count": null,
   "metadata": {},
   "outputs": [],
   "source": [
    "# Filtering dates with more than 600 accidents\n",
    "mask = date_wise['Total Accidents'] > 600\n",
    "vehicle_accidents_500 = date_wise[mask]\n",
    "vehicle_accidents_500.describe()"
   ]
  },
  {
   "cell_type": "markdown",
   "metadata": {},
   "source": [
    "As it can be seen, an average of more than 170 people were injured and a total of 838 people were killed on these particular days. So, any correlation between these days and other factors can help the authorities to improve road safety."
   ]
  },
  {
   "cell_type": "markdown",
   "metadata": {},
   "source": [
    "#### Weather Matching: ([Powered by Dark Sky](https://darksky.net/poweredby/))"
   ]
  },
  {
   "cell_type": "code",
   "execution_count": null,
   "metadata": {},
   "outputs": [],
   "source": [
    "# Dark Sky Secret Key\n",
    "secret_key = '5fb8fb4569a3cb7c29fe665e7c8dad66'"
   ]
  },
  {
   "cell_type": "code",
   "execution_count": null,
   "metadata": {},
   "outputs": [],
   "source": [
    "NYC_LAT = '40.730610'\n",
    "NYC_LONG = '-73.935242'"
   ]
  },
  {
   "cell_type": "code",
   "execution_count": null,
   "metadata": {},
   "outputs": [],
   "source": [
    "vehicle_accidents_500_date = vehicle_accidents_500.copy()['Date'].head(10)\n",
    "\n",
    "frame = {'Date': vehicle_accidents_500_date} \n",
    "vehicle_accidents_500_date_df = pd.DataFrame(frame) "
   ]
  },
  {
   "cell_type": "code",
   "execution_count": null,
   "metadata": {},
   "outputs": [],
   "source": [
    "casts = []\n",
    "\n",
    "for date in vehicle_accidents_500_date_df['Date'].values.tolist():\n",
    "    dt = str(date)\n",
    "    date_time = dt + \"T12:00:00\"\n",
    "    link = \"https://api.darksky.net/forecast/{}/{},{},{}\".format(secret_key, NYC_LAT, NYC_LONG, date_time)\n",
    "    \n",
    "    # Sending GET request and saving the response as a response object\n",
    "    r = requests.get(url = link)\n",
    "    \n",
    "    # Unpacking data in JSON Format\n",
    "    data = r.json() \n",
    "    to_cast = data['currently']['summary']\n",
    "    \n",
    "    casts.append(to_cast)\n",
    "\n",
    "# Adding the result to the dataframe\n",
    "vehicle_accidents_500_date_df['Summary'] = casts"
   ]
  },
  {
   "cell_type": "code",
   "execution_count": null,
   "metadata": {},
   "outputs": [],
   "source": [
    "# Joining the dataframes\n",
    "vehicle_accidents_500_date_df = date_wise.set_index('Date').\\\n",
    "join(vehicle_accidents_500_date_df.set_index('Date'))"
   ]
  },
  {
   "cell_type": "code",
   "execution_count": null,
   "metadata": {},
   "outputs": [],
   "source": [
    "to_plot = vehicle_accidents_500_date_df.head(10)\n",
    "\n",
    "# Calculate the number of people killed, injured and total accidents for each contributing factor\n",
    "to_plot_grouped = to_plot.groupby(['Summary'])\\\n",
    "['NUMBER OF PERSONS KILLED', 'NUMBER OF PERSONS INJURED'].agg('sum').reset_index()\n",
    "\n",
    "to_plot_grouped['Total Accidents'] = to_plot.groupby(['Summary']).size().\\\n",
    "reset_index(name='NoOfAccidents').NoOfAccidents\n",
    "\n",
    "# Injuries and Fatalities as Percentages\n",
    "to_plot_grouped['Injury%'] = round((to_plot_grouped['NUMBER OF PERSONS INJURED']/to_plot_grouped['Total Accidents'] * 100), 1)\n",
    "to_plot_grouped['Fatality%'] = round((to_plot_grouped['NUMBER OF PERSONS KILLED']/to_plot_grouped['Total Accidents'] * 100), 3)\n",
    "\n",
    "to_plot_grouped = to_plot_grouped.sort_values('Total Accidents', ascending = False)"
   ]
  },
  {
   "cell_type": "code",
   "execution_count": null,
   "metadata": {},
   "outputs": [],
   "source": [
    "# Create figure and axes for Matplotlib\n",
    "fig, ax = plt.subplots(1, figsize=(14, 6))\n",
    "\n",
    "# Defining color map\n",
    "color = np.flip(cm.Reds(np.linspace(.2,.6, 10)))\n",
    "\n",
    "# Creating the plot\n",
    "to_plot_grouped.plot(x = 'Summary', y = 'Total Accidents', \n",
    "             kind = 'bar', color = color, \n",
    "             stacked = True, ax = ax)\n",
    "\n",
    "# Customizing the Visulation\n",
    "ax.set_title('Weather Condition vs Number of Accidents', size = 12)\n",
    "ax.set_xlabel('Weather Condition', size = 12)\n",
    "ax.set_ylabel('Number of Accidents', size = 12)\n",
    "ax.tick_params(labelrotation = 90)\n",
    "\n",
    "# Exporting the visualisation\n",
    "fig.savefig('plots/weather_summary_accidents.png', dpi=500)"
   ]
  },
  {
   "cell_type": "code",
   "execution_count": null,
   "metadata": {},
   "outputs": [],
   "source": [
    "weather_inj_rate = to_plot_grouped.sort_values('Injury%', ascending = False).head(10)\n",
    "weather_inj = to_plot_grouped.sort_values('NUMBER OF PERSONS INJURED', ascending = False).head(10)\n",
    "weather_fat_rate = to_plot_grouped.sort_values('Fatality%', ascending = False).head(10)\n",
    "weather_fat = to_plot_grouped.sort_values('NUMBER OF PERSONS KILLED', ascending = False).head(10)"
   ]
  },
  {
   "cell_type": "code",
   "execution_count": null,
   "metadata": {},
   "outputs": [],
   "source": [
    "# Create figure and axes for Matplotlib\n",
    "fig, ((ax1, ax2), (ax3, ax4)) = plt.subplots(nrows=2, ncols=2, figsize=(18, 18))\n",
    "\n",
    "# Defining color map\n",
    "color = np.flip(cm.plasma(np.linspace(.2,.6, 10)))\n",
    "color2 = cm.PuRd(np.linspace(.2,.6, 10))\n",
    "\n",
    "# Creating the plots\n",
    "weather_inj_rate.plot(x = 'Summary', \n",
    "                      y = 'Injury%', kind = 'bar', \n",
    "                      color = color, stacked = True, ax = ax1)\n",
    "\n",
    "weather_inj.plot(x = 'Summary', y = 'NUMBER OF PERSONS INJURED', kind = 'bar', \n",
    "                 color = color, stacked = True, ax = ax3)\n",
    "\n",
    "weather_fat_rate.plot(x = 'Summary', \n",
    "                      y = 'Fatality%', kind = 'bar', \n",
    "                      color = color2, stacked = True, ax = ax2)\n",
    "\n",
    "weather_fat.plot(x = 'Summary', y = 'NUMBER OF PERSONS KILLED', kind = 'bar', \n",
    "                 color = color2, stacked = True, ax = ax4)\n",
    "\n",
    "# Customizing the Visulation\n",
    "ax1.set_title('Weather Condition with the highest rate of injury', size = 12)\n",
    "ax1.set_ylabel('Rate of Injury (%)', size = 12)\n",
    "ax1.set_xlabel(' ', size = 12)\n",
    "ax1.tick_params(labelrotation = 30)\n",
    "\n",
    "ax2.set_title('Weather Condition with the highest rate of fatality', size = 12)\n",
    "ax2.set_ylabel('Rate of Fatality (%)', size = 12)\n",
    "ax2.set_xlabel(' ', size = 12)\n",
    "ax2.tick_params(labelrotation = 30)\n",
    "\n",
    "ax3.set_title('Weather Condition vs Injuries', size = 12)\n",
    "ax3.set_xlabel('Weather Condition', size = 12)\n",
    "ax3.set_ylabel('Number of Injured People', size = 12)\n",
    "ax3.tick_params(labelrotation = 30)\n",
    "\n",
    "ax4.set_title('Weather Condition vs Fatalities', size = 12)\n",
    "ax4.set_xlabel('Weather Condition', size = 12)\n",
    "ax4.set_ylabel('Number of Deaths', size = 12)\n",
    "ax4.tick_params(labelrotation = 30)\n",
    "\n",
    "# Exporting the visualisation\n",
    "fig.savefig('plots/weather_inj_fat_rate.png', dpi=500)"
   ]
  }
 ],
 "metadata": {
  "kernelspec": {
   "display_name": "Python 3",
   "language": "python",
   "name": "python3"
  },
  "language_info": {
   "codemirror_mode": {
    "name": "ipython",
    "version": 3
   },
   "file_extension": ".py",
   "mimetype": "text/x-python",
   "name": "python",
   "nbconvert_exporter": "python",
   "pygments_lexer": "ipython3",
   "version": "3.7.4"
  }
 },
 "nbformat": 4,
 "nbformat_minor": 2
}
