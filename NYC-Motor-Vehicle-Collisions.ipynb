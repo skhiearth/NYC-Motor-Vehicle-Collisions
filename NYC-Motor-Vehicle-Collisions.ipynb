{
 "cells": [
  {
   "cell_type": "markdown",
   "metadata": {},
   "source": [
    "# New York City Motor Vehicle Collisions\n",
    "GitHub Repository: https://github.com/skhiearth/NYC-Motor-Vehicle-Collisions\n",
    "\n",
    "**Analysing and visualising Motor Vehicle Collisions in New York City with an objective to make the city roads safer using Data Science techniques. The [dataset](https://data.cityofnewyork.us/Public-Safety/Motor-Vehicle-Collisions-Crashes/h9gi-nx95) used is provided by NYC Open Data and contains details on the crash event. The Motor Vehicle Collisions data tables contain information from all police reported motor vehicle collisions in NYC.**"
   ]
  },
  {
   "cell_type": "code",
   "execution_count": 1,
   "metadata": {},
   "outputs": [],
   "source": [
    "# Import the required packages\n",
    "import os\n",
    "import pandas as pd\n",
    "import numpy as np\n",
    "import matplotlib.pyplot as plt\n",
    "import geopandas as gpd"
   ]
  },
  {
   "cell_type": "markdown",
   "metadata": {},
   "source": [
    "### Importing data"
   ]
  },
  {
   "cell_type": "markdown",
   "metadata": {},
   "source": [
    "Download the static file from [here](https://data.cityofnewyork.us/api/views/h9gi-nx95/rows.csv?accessType=DOWNLOAD). Dynamic data can be fetched using the Socrata Open Data API (SODA). \n",
    "Note that SODA limits a single API call to 1000 rows, so please use the offset parameter to make multiple API calls\n",
    "to fetch all rows.\n",
    "The exact static file version used here has been uploaded to Google Drive, and made public. You may access this version from [here](https://drive.google.com/open?id=1Wv9yya3u3HjnP2XZbxouFUnyLD4plU4Y)."
   ]
  },
  {
   "cell_type": "code",
   "execution_count": 2,
   "metadata": {},
   "outputs": [
    {
     "name": "stdout",
     "output_type": "stream",
     "text": [
      "(904482, 29)\n"
     ]
    },
    {
     "data": {
      "text/html": [
       "<div>\n",
       "<style scoped>\n",
       "    .dataframe tbody tr th:only-of-type {\n",
       "        vertical-align: middle;\n",
       "    }\n",
       "\n",
       "    .dataframe tbody tr th {\n",
       "        vertical-align: top;\n",
       "    }\n",
       "\n",
       "    .dataframe thead th {\n",
       "        text-align: right;\n",
       "    }\n",
       "</style>\n",
       "<table border=\"1\" class=\"dataframe\">\n",
       "  <thead>\n",
       "    <tr style=\"text-align: right;\">\n",
       "      <th></th>\n",
       "      <th>CRASH DATE</th>\n",
       "      <th>CRASH TIME</th>\n",
       "      <th>BOROUGH</th>\n",
       "      <th>ZIP CODE</th>\n",
       "      <th>LATITUDE</th>\n",
       "      <th>LONGITUDE</th>\n",
       "      <th>LOCATION</th>\n",
       "      <th>ON STREET NAME</th>\n",
       "      <th>CROSS STREET NAME</th>\n",
       "      <th>OFF STREET NAME</th>\n",
       "      <th>...</th>\n",
       "      <th>CONTRIBUTING FACTOR VEHICLE 2</th>\n",
       "      <th>CONTRIBUTING FACTOR VEHICLE 3</th>\n",
       "      <th>CONTRIBUTING FACTOR VEHICLE 4</th>\n",
       "      <th>CONTRIBUTING FACTOR VEHICLE 5</th>\n",
       "      <th>COLLISION_ID</th>\n",
       "      <th>VEHICLE TYPE CODE 1</th>\n",
       "      <th>VEHICLE TYPE CODE 2</th>\n",
       "      <th>VEHICLE TYPE CODE 3</th>\n",
       "      <th>VEHICLE TYPE CODE 4</th>\n",
       "      <th>VEHICLE TYPE CODE 5</th>\n",
       "    </tr>\n",
       "  </thead>\n",
       "  <tbody>\n",
       "    <tr>\n",
       "      <td>0</td>\n",
       "      <td>04/02/2016</td>\n",
       "      <td>22:23</td>\n",
       "      <td>BRONX</td>\n",
       "      <td>10456.0</td>\n",
       "      <td>NaN</td>\n",
       "      <td>NaN</td>\n",
       "      <td>NaN</td>\n",
       "      <td>WESTCHESTER AVENUE</td>\n",
       "      <td>UNION AVENUE</td>\n",
       "      <td>NaN</td>\n",
       "      <td>...</td>\n",
       "      <td>NaN</td>\n",
       "      <td>NaN</td>\n",
       "      <td>NaN</td>\n",
       "      <td>NaN</td>\n",
       "      <td>3411047.0</td>\n",
       "      <td>PASSENGER VEHICLE</td>\n",
       "      <td>NaN</td>\n",
       "      <td>NaN</td>\n",
       "      <td>NaN</td>\n",
       "      <td>NaN</td>\n",
       "    </tr>\n",
       "    <tr>\n",
       "      <td>1</td>\n",
       "      <td>01/06/2020</td>\n",
       "      <td>12:50</td>\n",
       "      <td>NaN</td>\n",
       "      <td>NaN</td>\n",
       "      <td>NaN</td>\n",
       "      <td>NaN</td>\n",
       "      <td>NaN</td>\n",
       "      <td>PRINCE STREET</td>\n",
       "      <td>NaN</td>\n",
       "      <td>NaN</td>\n",
       "      <td>...</td>\n",
       "      <td>Failure to Yield Right-of-Way</td>\n",
       "      <td>NaN</td>\n",
       "      <td>NaN</td>\n",
       "      <td>NaN</td>\n",
       "      <td>4269674.0</td>\n",
       "      <td>Sedan</td>\n",
       "      <td>Tractor Truck Diesel</td>\n",
       "      <td>NaN</td>\n",
       "      <td>NaN</td>\n",
       "      <td>NaN</td>\n",
       "    </tr>\n",
       "    <tr>\n",
       "      <td>2</td>\n",
       "      <td>01/06/2020</td>\n",
       "      <td>13:16</td>\n",
       "      <td>MANHATTAN</td>\n",
       "      <td>10018.0</td>\n",
       "      <td>NaN</td>\n",
       "      <td>NaN</td>\n",
       "      <td>NaN</td>\n",
       "      <td>40 STREET</td>\n",
       "      <td>12 AVENUE</td>\n",
       "      <td>NaN</td>\n",
       "      <td>...</td>\n",
       "      <td>Unspecified</td>\n",
       "      <td>NaN</td>\n",
       "      <td>NaN</td>\n",
       "      <td>NaN</td>\n",
       "      <td>4269909.0</td>\n",
       "      <td>Sedan</td>\n",
       "      <td>Bus</td>\n",
       "      <td>NaN</td>\n",
       "      <td>NaN</td>\n",
       "      <td>NaN</td>\n",
       "    </tr>\n",
       "  </tbody>\n",
       "</table>\n",
       "<p>3 rows × 29 columns</p>\n",
       "</div>"
      ],
      "text/plain": [
       "   CRASH DATE CRASH TIME    BOROUGH  ZIP CODE  LATITUDE  LONGITUDE LOCATION  \\\n",
       "0  04/02/2016      22:23      BRONX   10456.0       NaN        NaN      NaN   \n",
       "1  01/06/2020      12:50        NaN       NaN       NaN        NaN      NaN   \n",
       "2  01/06/2020      13:16  MANHATTAN   10018.0       NaN        NaN      NaN   \n",
       "\n",
       "                     ON STREET NAME CROSS STREET NAME OFF STREET NAME  ...  \\\n",
       "0  WESTCHESTER AVENUE                    UNION AVENUE             NaN  ...   \n",
       "1  PRINCE STREET                                  NaN             NaN  ...   \n",
       "2  40 STREET                                12 AVENUE             NaN  ...   \n",
       "\n",
       "   CONTRIBUTING FACTOR VEHICLE 2  CONTRIBUTING FACTOR VEHICLE 3  \\\n",
       "0                            NaN                            NaN   \n",
       "1  Failure to Yield Right-of-Way                            NaN   \n",
       "2                    Unspecified                            NaN   \n",
       "\n",
       "   CONTRIBUTING FACTOR VEHICLE 4  CONTRIBUTING FACTOR VEHICLE 5  COLLISION_ID  \\\n",
       "0                            NaN                            NaN     3411047.0   \n",
       "1                            NaN                            NaN     4269674.0   \n",
       "2                            NaN                            NaN     4269909.0   \n",
       "\n",
       "   VEHICLE TYPE CODE 1   VEHICLE TYPE CODE 2  VEHICLE TYPE CODE 3  \\\n",
       "0    PASSENGER VEHICLE                   NaN                  NaN   \n",
       "1                Sedan  Tractor Truck Diesel                  NaN   \n",
       "2                Sedan                   Bus                  NaN   \n",
       "\n",
       "  VEHICLE TYPE CODE 4 VEHICLE TYPE CODE 5  \n",
       "0                 NaN                 NaN  \n",
       "1                 NaN                 NaN  \n",
       "2                 NaN                 NaN  \n",
       "\n",
       "[3 rows x 29 columns]"
      ]
     },
     "execution_count": 2,
     "metadata": {},
     "output_type": "execute_result"
    }
   ],
   "source": [
    "# Importing static dataset from .csv file\n",
    "raw_data = pd.read_csv('datasets/Motor_Vehicle_Collisions_-_Crashes.csv')\n",
    "\n",
    "print(raw_data.shape)\n",
    "raw_data.head(3)"
   ]
  },
  {
   "cell_type": "markdown",
   "metadata": {},
   "source": [
    "### Data Pre-processing and Cleaning"
   ]
  },
  {
   "cell_type": "code",
   "execution_count": 3,
   "metadata": {},
   "outputs": [],
   "source": [
    "# Removing columns that have more than a third values as NaN\n",
    "mask = raw_data.isna().sum() / len(raw_data) < 0.34\n",
    "raw_data = raw_data.loc[:, mask]\n",
    "\n",
    "# Removing columns that don't have a large contributing factor to EDA and Predictions\n",
    "cols_to_drop = ['ZIP CODE', 'LOCATION', \n",
    "                'CONTRIBUTING FACTOR VEHICLE 2', 'VEHICLE TYPE CODE 2']\n",
    "raw_data.drop(cols_to_drop, axis = 1, inplace = True)"
   ]
  },
  {
   "cell_type": "code",
   "execution_count": 4,
   "metadata": {},
   "outputs": [],
   "source": [
    "# Concatenating date and time columns\n",
    "raw_data['CRASH_DATE_TIME'] = raw_data['CRASH DATE'] + ' ' + raw_data['CRASH TIME']\n",
    "\n",
    "# Drop redundant date and time columns\n",
    "cols_to_drop = ['CRASH DATE', 'CRASH TIME']\n",
    "raw_data.drop(cols_to_drop, axis = 1, inplace = True)"
   ]
  },
  {
   "cell_type": "code",
   "execution_count": null,
   "metadata": {},
   "outputs": [],
   "source": [
    "# Convert Crash Date and time to datetime format\n",
    "raw_data['CRASH_DATE_TIME']= pd.to_datetime(raw_data['CRASH_DATE_TIME'], \n",
    "                                            dayfirst=True, errors='coerce')\n",
    "\n",
    "# Dropping rows with problematics dates\n",
    "idx = raw_data[raw_data['CRASH_DATE_TIME'].isnull()].index\n",
    "raw_data.drop(idx, axis = 0, inplace = True)\n",
    "\n",
    "print(raw_data.shape)\n",
    "raw_data.head(3)"
   ]
  },
  {
   "cell_type": "markdown",
   "metadata": {},
   "source": [
    "### Borough-wise Analysis"
   ]
  },
  {
   "cell_type": "code",
   "execution_count": null,
   "metadata": {},
   "outputs": [],
   "source": [
    "borough_wise = raw_data.groupby(['BOROUGH']).size().reset_index(name='NoOfAccidents')\n",
    "borough_wise.head()"
   ]
  },
  {
   "cell_type": "markdown",
   "metadata": {},
   "source": [
    "The [GIS data](https://data.cityofnewyork.us/City-Government/Borough-Boundaries/tqmj-j8zm) with the Boundaries of Boroughs for New York City is obtained from NYC Open Data. The data is provided by the Department of City Planning (DCP)."
   ]
  },
  {
   "cell_type": "code",
   "execution_count": null,
   "metadata": {},
   "outputs": [],
   "source": [
    "# Import the ShapeFile for Borough Boundaries\n",
    "fp = 'datasets/Borough Boundaries/geo_export_87071461-9196-46f3-8d1b-52fed88fb835.shp'\n",
    "borough_geo = gpd.read_file(fp)\n",
    "borough_geo['boro_name'] = borough_geo['boro_name'].str.upper() \n",
    "borough_geo.head()\n",
    "\n",
    "merged_for_map = borough_geo.set_index('boro_name').join(borough_wise.set_index('BOROUGH'))"
   ]
  },
  {
   "cell_type": "code",
   "execution_count": null,
   "metadata": {},
   "outputs": [],
   "source": [
    "# Create figure and axes for Matplotlib\n",
    "fig, ax = plt.subplots(1, figsize=(10, 7))\n",
    "\n",
    "# Drawing the Map\n",
    "merged_for_map.plot(column = 'NoOfAccidents', cmap = 'Reds', linewidth = 0.8, \n",
    "                      ax = ax, edgecolor = '0.8')\n",
    "\n",
    "# Map customizations\n",
    "ax.axis('off')\n",
    "ax.set_title('Motor Vehicle Collisions in NYC', size = 16)\n",
    "ax.annotate('Source: NYC Open Data', xy = (0.1, .08),  \n",
    "            xycoords = 'figure fraction', horizontalalignment = 'left', verticalalignment = 'top', \n",
    "            fontsize = 12, color = '#555555')\n",
    "\n",
    "# Adding a color bar legend to the map\n",
    "sm = plt.cm.ScalarMappable(cmap = 'Reds', \n",
    "                           norm = plt.Normalize(vmin = 22822, vmax = 189648))\n",
    "cbar = fig.colorbar(sm)\n",
    "\n",
    "# Export map\n",
    "fig.savefig('plots/borough_wise_accidents.png', dpi=300)"
   ]
  }
 ],
 "metadata": {
  "kernelspec": {
   "display_name": "Python 3",
   "language": "python",
   "name": "python3"
  },
  "language_info": {
   "codemirror_mode": {
    "name": "ipython",
    "version": 3
   },
   "file_extension": ".py",
   "mimetype": "text/x-python",
   "name": "python",
   "nbconvert_exporter": "python",
   "pygments_lexer": "ipython3",
   "version": "3.7.4"
  }
 },
 "nbformat": 4,
 "nbformat_minor": 2
}
